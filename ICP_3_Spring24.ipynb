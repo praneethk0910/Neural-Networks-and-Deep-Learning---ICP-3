{
 "cells": [
  {
   "cell_type": "code",
   "execution_count": 10,
   "id": "d437e608",
   "metadata": {},
   "outputs": [
    {
     "name": "stdout",
     "output_type": "stream",
     "text": [
      "Average Salary for Employee 1: $60000.0\n",
      "Average Salary for Employee 2: $65000.0\n",
      "Total Number of Employees: 2\n"
     ]
    }
   ],
   "source": [
    "class Employee:\n",
    "    # Class variable to count the number of employees\n",
    "    employee_count = 0\n",
    "    \n",
    "    def __init__(self, name, family, salary, department):\n",
    "        self.name = name\n",
    "        self.family = family\n",
    "        self.salary = salary\n",
    "        self.department = department\n",
    "        # Increment the employee count when a new employee is created\n",
    "        Employee.employee_count += 1\n",
    "    \n",
    "    def average_salary(self, *salaries):\n",
    "        total_salary = sum(salaries) + self.salary\n",
    "        average = total_salary / (len(salaries) + 1)\n",
    "        return average\n",
    "\n",
    "class FulltimeEmployee(Employee):\n",
    "    def __init__(self, name, family, salary, department, hours_per_week):\n",
    "        # Call the constructor of the parent class\n",
    "        super().__init__(name, family, salary, department)\n",
    "        self.hours_per_week = hours_per_week\n",
    "\n",
    "# Creating instances of Employee and FulltimeEmployee classes\n",
    "employee1 = Employee(\"anusree\", \"Family sree\", 50000, \"HR\")\n",
    "employee2 = FulltimeEmployee(\"vicky\", \"Family vicky\", 60000, \"IT\", 40)\n",
    "\n",
    "# Calling member functions\n",
    "average_salary_employee1 = employee1.average_salary(70000, 60000)\n",
    "print(f\"Average Salary for Employee 1: ${average_salary_employee1}\")\n",
    "\n",
    "average_salary_employee2 = employee2.average_salary(65000, 70000)\n",
    "print(f\"Average Salary for Employee 2: ${average_salary_employee2}\")\n",
    "\n",
    "# Accessing class variable\n",
    "print(f\"Total Number of Employees: {Employee.employee_count}\")"
   ]
  },
  {
   "cell_type": "code",
   "execution_count": 11,
   "id": "aeb1193c",
   "metadata": {},
   "outputs": [
    {
     "name": "stdout",
     "output_type": "stream",
     "text": [
      "Original Random Vector:\n",
      "[ 0.          9.76117129  8.71862738  9.87043393  6.80135197 14.3717517\n",
      "  3.4019444   1.66352768  0.          5.8425179  16.38431582 17.22128242\n",
      " 14.19225463  0.         12.44585103 12.03512847  1.70506678 10.54115394\n",
      "  0.         13.86386172]\n",
      "\n",
      "Reshaped Array (4 by 5):\n",
      "[[ 0.          9.76117129  8.71862738  9.87043393  6.80135197]\n",
      " [14.3717517   3.4019444   1.66352768  0.          5.8425179 ]\n",
      " [16.38431582 17.22128242 14.19225463  0.         12.44585103]\n",
      " [12.03512847  1.70506678 10.54115394  0.         13.86386172]]\n"
     ]
    }
   ],
   "source": [
    "import numpy as np\n",
    "\n",
    "# Create a random vector of size 20 with floats in the range 1-20\n",
    "random_vector = np.random.uniform(1, 20, 20)\n",
    "\n",
    "# Reshape the array to 4 by 5\n",
    "reshaped_array = random_vector.reshape(4, 5)\n",
    "\n",
    "# Replace the max in each row by 0 (along axis=1)\n",
    "reshaped_array[np.arange(reshaped_array.shape[0]), np.argmax(reshaped_array, axis=1)] = 0\n",
    "\n",
    "print(\"Original Random Vector:\")\n",
    "print(random_vector)\n",
    "print(\"\\nReshaped Array (4 by 5):\")\n",
    "print(reshaped_array)\n"
   ]
  },
  {
   "cell_type": "code",
   "execution_count": null,
   "id": "5db4264b",
   "metadata": {},
   "outputs": [],
   "source": []
  }
 ],
 "metadata": {
  "kernelspec": {
   "display_name": "Python 3 (ipykernel)",
   "language": "python",
   "name": "python3"
  },
  "language_info": {
   "codemirror_mode": {
    "name": "ipython",
    "version": 3
   },
   "file_extension": ".py",
   "mimetype": "text/x-python",
   "name": "python",
   "nbconvert_exporter": "python",
   "pygments_lexer": "ipython3",
   "version": "3.11.5"
  }
 },
 "nbformat": 4,
 "nbformat_minor": 5
}
